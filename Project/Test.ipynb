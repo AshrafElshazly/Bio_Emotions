{
 "cells": [
  {
   "cell_type": "code",
   "execution_count": 18,
   "metadata": {},
   "outputs": [],
   "source": [
    "import numpy as np\n",
    "import pandas as pd\n",
    "import scipy.io as sio\n",
    "import neurokit2 as nk\n",
    "from sklearn.model_selection import GroupKFold\n",
    "from sklearn.pipeline import make_pipeline\n",
    "from sklearn.preprocessing import MinMaxScaler\n",
    "from sklearn.svm import SVC\n",
    "import joblib\n",
    "import time\n",
    "from os.path import exists\n",
    "import matplotlib.pyplot as plt"
   ]
  },
  {
   "cell_type": "code",
   "execution_count": 19,
   "metadata": {},
   "outputs": [],
   "source": [
    "def feat_extract_ECG(raw):\n",
    "    data_ECG = {}\n",
    "    for participant in range(0, 23):\n",
    "        for video in range(0, 18):\n",
    "\n",
    "            stim_left = (raw[\"DREAMER\"][0, 0][\"Data\"]\n",
    "                         [0, participant][\"ECG\"][0, 0]\n",
    "                         [\"stimuli\"][0, 0][video, 0][:, 0])\n",
    "            stim_right = (raw[\"DREAMER\"][0, 0][\"Data\"]\n",
    "                          [0, participant][\"ECG\"][0, 0]\n",
    "                          [\"stimuli\"][0, 0][video, 0][:, 1])\n",
    "\n",
    "            signals_s_l, info_s_l = nk.ecg_process(\n",
    "                stim_left, sampling_rate=256)\n",
    "            signals_s_r, info_s_r = nk.ecg_process(\n",
    "                stim_right, sampling_rate=256)\n",
    "\n",
    "            features_ecg_l = nk.ecg_intervalrelated(signals_s_l)\n",
    "            features_ecg_r = nk.ecg_intervalrelated(signals_s_r)\n",
    "\n",
    "            features_ecg = (features_ecg_l + features_ecg_r)/2\n",
    "            if not len(data_ECG):\n",
    "                data_ECG = features_ecg\n",
    "            else:\n",
    "                data_ECG = pd.concat([data_ECG, features_ecg],\n",
    "                                     ignore_index=True)\n",
    "    return data_ECG"
   ]
  },
  {
   "cell_type": "code",
   "execution_count": 20,
   "metadata": {},
   "outputs": [],
   "source": [
    "def participant_affective(raw):\n",
    "    a = np.zeros((23, 18, 9), dtype=object)\n",
    "    for participant in range(0, 23):\n",
    "        for video in range(0, 18):\n",
    "            a[participant, video, 0] = (raw[\"DREAMER\"][0, 0][\"Data\"]\n",
    "                                        [0, participant][\"Age\"][0][0][0])\n",
    "            a[participant, video, 1] = (raw[\"DREAMER\"][0, 0][\"Data\"]\n",
    "                                        [0, participant][\"Gender\"][0][0][0])\n",
    "            a[participant, video, 2] = int(participant+1)\n",
    "            a[participant, video, 3] = int(video+1)\n",
    "            a[participant, video, 4] = [\"Searching for Bobby Fischer\",\n",
    "                                        \"D.O.A.\", \"The Hangover\", \"The Ring\",\n",
    "                                        \"300\", \"National Lampoon\\'s VanWilder\",\n",
    "                                        \"Wall-E\", \"Crash\", \"My Girl\",\n",
    "                                        \"The Fly\", \"Pride and Prejudice\",\n",
    "                                        \"Modern Times\", \"Remember the Titans\",\n",
    "                                        \"Gentlemans Agreement\", \"Psycho\",\n",
    "                                        \"The Bourne Identitiy\",\n",
    "                                        \"The Shawshank Redemption\",\n",
    "                                        \"The Departed\"][video]\n",
    "            a[participant, video, 5] = [\"calmness\", \"surprise\", \"amusement\",\n",
    "                                        \"fear\", \"excitement\", \"disgust\",\n",
    "                                        \"happiness\", \"anger\", \"sadness\",\n",
    "                                        \"disgust\", \"calmness\", \"amusement\",\n",
    "                                        \"happiness\", \"anger\", \"fear\",\n",
    "                                        \"excitement\", \"sadness\",\n",
    "                                        \"surprise\"][video]\n",
    "            a[participant, video, 6] = int(raw[\"DREAMER\"][0, 0][\"Data\"]\n",
    "                                           [0, participant][\"ScoreValence\"]\n",
    "                                           [0, 0][video, 0])\n",
    "            a[participant, video, 7] = int(raw[\"DREAMER\"][0, 0][\"Data\"]\n",
    "                                           [0, participant][\"ScoreArousal\"]\n",
    "                                           [0, 0][video, 0])\n",
    "            a[participant, video, 8] = int(raw[\"DREAMER\"][0, 0][\"Data\"]\n",
    "                                           [0, participant][\"ScoreDominance\"]\n",
    "                                           [0, 0][video, 0])\n",
    "    b = pd.DataFrame(a.reshape((23*18, a.shape[2])),\n",
    "                     columns=[\"age\", \"gender\", \"participant\",\n",
    "                              \"video\", \"video_name\", \"target_emotion\",\n",
    "                              \"valence\", \"arousal\", \"dominance\"])\n",
    "    return b\n"
   ]
  },
  {
   "cell_type": "code",
   "execution_count": 21,
   "metadata": {},
   "outputs": [],
   "source": [
    "def customiz_data_ML(data):\n",
    "    data = pd.DataFrame(data, columns=[\n",
    "        'ECG_Rate_Mean', 'HRV_MeanNN', 'HRV_SDNN', 'HRV_RMSSD', 'HRV_SDSD', 'HRV_CVNN',\n",
    "        'HRV_CVSD', 'HRV_MedianNN', 'HRV_MadNN', 'HRV_MCVNN', 'HRV_IQRNN', 'HRV_HTI', \n",
    "        'HRV_HF', 'HRV_HFn', 'HRV_LnHF', 'HRV_SD1', 'HRV_SD2', 'HRV_SD1SD2', 'HRV_S', \n",
    "        'HRV_CSI', 'HRV_CVI', 'HRV_CSI_Modified', 'HRV_PIP', 'HRV_IALS', 'HRV_PSS', \n",
    "        'HRV_GI', 'HRV_SI', 'HRV_AI', 'HRV_PI', 'HRV_C1d', 'HRV_C1a', 'HRV_SD1d', 'HRV_SD1a',\n",
    "        'HRV_C2d', 'HRV_C2a', 'HRV_SD2d', 'HRV_SD2a', 'HRV_Cd', 'HRV_Ca', 'HRV_SDNNd', 'HRV_SDNNa',\n",
    "        'HRV_DFA_alpha1', 'HRV_DFA_alpha1_ExpRange', 'HRV_DFA_alpha1_ExpMean', 'HRV_DFA_alpha1_DimRange',\n",
    "        'HRV_DFA_alpha1_DimMean', 'HRV_ApEn', 'HRV_SampEn', 'gender', 'age', 'target_emotion', 'valence', \n",
    "        'arousal', 'dominance', 'stress_bin', 'participant'\n",
    "    ])\n",
    "    return data"
   ]
  },
  {
   "cell_type": "code",
   "execution_count": 22,
   "metadata": {},
   "outputs": [],
   "source": [
    "def plot_settings():\n",
    "    plt.rcParams['figure.figsize'] = [15, 9]\n",
    "    plt.rcParams['font.size'] = 13"
   ]
  },
  {
   "cell_type": "code",
   "execution_count": 23,
   "metadata": {},
   "outputs": [],
   "source": [
    "def processing(ecg_signal):\n",
    "    ecg_cleaned = nk.ecg_clean(\n",
    "        ecg_signal, sampling_rate=256, method=\"engzeemod2012\")\n",
    "    instant_peaks, rpeaks, = nk.ecg_peaks(ecg_cleaned, sampling_rate=256)\n",
    "    rate = nk.ecg_rate(rpeaks, sampling_rate=256,\n",
    "                       desired_length=len(ecg_cleaned))\n",
    "    quality = nk.ecg_quality(ecg_cleaned, sampling_rate=256)\n",
    "\n",
    "    signals = pd.DataFrame({\"ECG_Raw\": ecg_signal,\n",
    "                            \"ECG_Clean\": ecg_cleaned,\n",
    "                            \"ECG_Rate\": rate,\n",
    "                            \"ECG_Quality\": quality})\n",
    "    signals = pd.concat([signals, instant_peaks], axis=1)\n",
    "    info = rpeaks\n",
    "\n",
    "    return signals, info"
   ]
  },
  {
   "cell_type": "code",
   "execution_count": 24,
   "metadata": {},
   "outputs": [],
   "source": [
    "def customiz_data_hrv(data):\n",
    "    data = pd.DataFrame(data, columns=[\n",
    "        'ECG_Rate_Mean', 'HRV_MeanNN', 'HRV_SDNN', 'HRV_RMSSD', 'HRV_SDSD', 'HRV_CVNN', 'HRV_CVSD',\n",
    "        'HRV_MedianNN', 'HRV_MadNN', 'HRV_MCVNN', 'HRV_IQRNN', 'HRV_HTI', 'HRV_HF', 'HRV_HFn', 'HRV_LnHF',\n",
    "        'HRV_SD1', 'HRV_SD2', 'HRV_SD1SD2', 'HRV_S', 'HRV_CSI', 'HRV_CVI', 'HRV_CSI_Modified', 'HRV_PIP',\n",
    "        'HRV_IALS', 'HRV_PSS', 'HRV_GI', 'HRV_SI', 'HRV_AI', 'HRV_PI', 'HRV_C1d', 'HRV_C1a', 'HRV_SD1d', \n",
    "        'HRV_SD1a', 'HRV_C2d', 'HRV_C2a', 'HRV_SD2d', 'HRV_SD2a', 'HRV_Cd', 'HRV_Ca', 'HRV_SDNNd', 'HRV_SDNNa',\n",
    "        'HRV_DFA_alpha1', 'HRV_DFA_alpha1_ExpRange', 'HRV_DFA_alpha1_ExpMean', 'HRV_DFA_alpha1_DimRange', \n",
    "        'HRV_DFA_alpha1_DimMean', 'HRV_ApEn', 'HRV_SampEn'\n",
    "    ])\n",
    "    return data"
   ]
  },
  {
   "cell_type": "code",
   "execution_count": 25,
   "metadata": {},
   "outputs": [],
   "source": [
    "def PE_dreamer(path):\n",
    "    raw = sio.loadmat(path)\n",
    "    print(\"Dataset Load Done\")\n",
    "    print(\"  \")\n",
    "    print(\"Processing and Extarctring Featuers....\")\n",
    "    df_ECG = feat_extract_ECG(raw)\n",
    "    print(\"Processing and Extarctring Featuers Done\")\n",
    "    df_features = pd.concat([df_ECG], axis=1)\n",
    "    df_participant_affective = participant_affective(raw)\n",
    "    df_participant_affective[\"valence\"] = (df_participant_affective\n",
    "                                           [\"valence\"].astype(int))\n",
    "    df_participant_affective[\"arousal\"] = (df_participant_affective\n",
    "                                           [\"arousal\"].astype(int))\n",
    "    df_participant_affective[\"dominance\"] = (df_participant_affective\n",
    "                                             [\"dominance\"].astype(int))\n",
    "    df = pd.concat([df_features, df_participant_affective], axis=1)\n",
    "\n",
    "    data = df.loc[(df['target_emotion'] == 'calmness') |\n",
    "                  (df['target_emotion'] == 'happiness') |\n",
    "                  (df['target_emotion'] == 'sadness') |\n",
    "                  (df['target_emotion'] == 'anger') |\n",
    "                  (df['target_emotion'] == 'fear') |\n",
    "                  (df['target_emotion'] == 'surprise')\n",
    "                  ].copy()\n",
    "\n",
    "    data['stress_bin'] = data['target_emotion'].map(\n",
    "        {'calmness': 0, 'happiness': 1, 'sadness': 2,\n",
    "            'anger': 3, 'fear': 4, 'surprise': 5}\n",
    "    )\n",
    "\n",
    "    data = customiz_data_ML(data)\n",
    "    data.to_csv('Data/dataML_Modified.csv')"
   ]
  },
  {
   "cell_type": "code",
   "execution_count": 26,
   "metadata": {},
   "outputs": [],
   "source": [
    "def PF_generated_ecg(heartRate):\n",
    "    # PFecg.plot_settings()\n",
    "    ecg = nk.ecg_simulate(sampling_rate=256, heart_rate=heartRate)\n",
    "    # nk.signal_plot(ecg)\n",
    "    signal, info = processing(ecg)\n",
    "    #nk.ecg_plot(signal[:3000], sampling_rate=256)\n",
    "    data = nk.ecg_intervalrelated(signal)\n",
    "    data = customiz_data_hrv(data)\n",
    "    data.to_csv(\"Data/HeartManual/generated_ECG_256hz.csv\")\n",
    "    return \"Data/HeartManual/generated_ECG_256hz.csv\""
   ]
  },
  {
   "cell_type": "code",
   "execution_count": 27,
   "metadata": {},
   "outputs": [],
   "source": [
    "def PF_ecg(path):\n",
    "    # PFecg.plot_settings()\n",
    "    ecg = pd.read_csv(path)\n",
    "    # nk.signal_plot(ecg['ECG'])\n",
    "    signal, info = nk.ecg_process(ecg[\"ECG\"], sampling_rate=100)\n",
    "    #nk.ecg_plot(signal[:3000], sampling_rate=100)\n",
    "    data = nk.ecg_intervalrelated(signal)\n",
    "    data = customiz_data_hrv(data)\n",
    "    data.to_csv(\"Data/HeartManual/PF_ECG_100hz.csv\")\n",
    "    return \"Data/HeartManual/PF_ECG_100hz.csv\""
   ]
  },
  {
   "cell_type": "code",
   "execution_count": 28,
   "metadata": {},
   "outputs": [],
   "source": [
    "def preparing_ML_data(path):\n",
    "    data = pd.read_csv(path)\n",
    "    group_kfold = GroupKFold(n_splits=14)\n",
    "    X = np.array(data.loc[:, 'ECG_Rate_Mean':'HRV_SampEn'])\n",
    "    y = np.array(data['stress_bin'])\n",
    "    groups = np.array(data['participant'])\n",
    "    \n",
    "    for train, test in group_kfold.split(X, y, groups):\n",
    "        X_train, X_test = X[train], X[test]\n",
    "        y_train, y_test = y[train], y[test]\n",
    "\n",
    "    return X, y, groups, X_train, X_test, y_train, y_test"
   ]
  },
  {
   "cell_type": "code",
   "execution_count": 29,
   "metadata": {},
   "outputs": [],
   "source": [
    "def run_clf(clf, X, y, groups, X_test, y_test):\n",
    "    cv = GroupKFold(n_splits=14)\n",
    "    score = []\n",
    "    runtime = []\n",
    "    for fold, (train, test) in enumerate(cv.split(X, y, groups)):\n",
    "        clf.fit(X[train], y[train])\n",
    "        start = time.time()\n",
    "        score.append(clf.score(X_test, y_test))\n",
    "        runtime.append(time.time() - start)\n",
    "    return score, runtime"
   ]
  },
  {
   "cell_type": "code",
   "execution_count": 30,
   "metadata": {},
   "outputs": [],
   "source": [
    "def supervised_model(train_data):\n",
    "    \n",
    "    X, y, groups, X_train, X_test, y_train, y_test = preparing_ML_data(\n",
    "        train_data)\n",
    "    \n",
    "    results = []\n",
    "\n",
    "    model = make_pipeline(MinMaxScaler(), SVC(gamma=2, C=1))\n",
    "\n",
    "    score, runtime = run_clf(model, X, y, groups, X_test, y_test)\n",
    "\n",
    "    results.append([\"SVC\", round(np.mean(score)*100, 1),\n",
    "                   round(np.mean(runtime), 9)])\n",
    "    result = pd.DataFrame(results, columns=['Name', 'Score', 'Runtime'])\n",
    "    \n",
    "    return model, result"
   ]
  },
  {
   "cell_type": "code",
   "execution_count": 31,
   "metadata": {},
   "outputs": [],
   "source": [
    "def App(train_path: str, dreamer_path: str):\n",
    "    \n",
    "    if(not exists(train_path)):\n",
    "        print(\"Trainning Data not found, Will generate new data\")\n",
    "        if(exists(dreamer_path)):\n",
    "            PE_dreamer(dreamer_path)\n",
    "        else:\n",
    "            return \"DREAMER Dataset Not Found\"\n",
    "\n",
    "    model_saved, result = supervised_model(train_path)\n",
    "    joblib.dump(model_saved, 'model.pkl')\n",
    "    return result"
   ]
  },
  {
   "cell_type": "code",
   "execution_count": 36,
   "metadata": {},
   "outputs": [
    {
     "name": "stdout",
     "output_type": "stream",
     "text": [
      "  Name  Score   Runtime\n",
      "0  SVC   93.5  0.001062\n"
     ]
    }
   ],
   "source": [
    "print(App(\"Data/dataML_Modified.csv\",\"../Datasets/DREAMER.mat\"))"
   ]
  },
  {
   "cell_type": "code",
   "execution_count": 33,
   "metadata": {},
   "outputs": [],
   "source": [
    "def run(path: str):\n",
    "    emotions = ['calm', 'happy', 'sad', 'angry', 'fear', 'suprise']\n",
    "    model = joblib.load('model.pkl')\n",
    "    test = pd.read_csv(path)\n",
    "    tester = np.array(test.loc[:, 'ECG_Rate_Mean':'HRV_SampEn'])\n",
    "    emotion = model.predict(tester)\n",
    "    return emotions[emotion[0]]"
   ]
  },
  {
   "cell_type": "code",
   "execution_count": 34,
   "metadata": {},
   "outputs": [
    {
     "name": "stdout",
     "output_type": "stream",
     "text": [
      "angry\n"
     ]
    }
   ],
   "source": [
    "print(run('data/HeartEmotions/angry.csv'))"
   ]
  }
 ],
 "metadata": {
  "interpreter": {
   "hash": "f08154012ddadd8e950e6e9e035c7a7b32c136e7647e9b7c77e02eb723a8bedb"
  },
  "kernelspec": {
   "display_name": "Python 3.9.7 ('base')",
   "language": "python",
   "name": "python3"
  },
  "language_info": {
   "codemirror_mode": {
    "name": "ipython",
    "version": 3
   },
   "file_extension": ".py",
   "mimetype": "text/x-python",
   "name": "python",
   "nbconvert_exporter": "python",
   "pygments_lexer": "ipython3",
   "version": "3.9.7"
  },
  "orig_nbformat": 4
 },
 "nbformat": 4,
 "nbformat_minor": 2
}
